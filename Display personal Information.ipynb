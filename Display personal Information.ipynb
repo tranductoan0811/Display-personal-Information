{
 "cells": [
  {
   "cell_type": "code",
   "execution_count": 6,
   "id": "0e759f47",
   "metadata": {},
   "outputs": [
    {
     "name": "stdout",
     "output_type": "stream",
     "text": [
      "fullname: tran duc toan\n",
      "address: Cổ Nhuế, Bắc Từ Liêm, Hà Nội\n",
      "Mục đích học python : phục vụ công việc quản trị database công ty \n",
      "course: Python Fundermental\n",
      "python class: PYF2108R1\n",
      "my teacher: Lam Duc Long\n"
     ]
    }
   ],
   "source": [
    "print(\"fullname: tran duc toan\")\n",
    "print(\"address: Cổ Nhuế, Bắc Từ Liêm, Hà Nội\")\n",
    "print(\"\"\"Mục đích học python : phục vụ công việc quản trị database công ty \"\"\")\n",
    "print(\"course: Python Fundermental\")\n",
    "print(\"python class: PYF2108R1\")\n",
    "print(\"my teacher: Lam Duc Long\")"
   ]
  }
 ],
 "metadata": {
  "kernelspec": {
   "display_name": "Python 3 (ipykernel)",
   "language": "python",
   "name": "python3"
  },
  "language_info": {
   "codemirror_mode": {
    "name": "ipython",
    "version": 3
   },
   "file_extension": ".py",
   "mimetype": "text/x-python",
   "name": "python",
   "nbconvert_exporter": "python",
   "pygments_lexer": "ipython3",
   "version": "3.9.6"
  }
 },
 "nbformat": 4,
 "nbformat_minor": 5
}
